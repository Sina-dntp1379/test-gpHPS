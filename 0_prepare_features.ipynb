{
  "nbformat": 4,
  "nbformat_minor": 0,
  "metadata": {
    "colab": {
      "name": "0_prepare_features.ipynb",
      "provenance": [],
      "collapsed_sections": []
    },
    "kernelspec": {
      "name": "python3",
      "display_name": "Python 3"
    },
    "language_info": {
      "name": "python"
    }
  },
  "cells": [
    {
      "cell_type": "code",
      "execution_count": 4,
      "metadata": {
        "colab": {
          "base_uri": "https://localhost:8080/"
        },
        "id": "-k976iTikGqm",
        "outputId": "d2aa37b5-c9df-41d8-8ebc-a985fd6b4c54"
      },
      "outputs": [
        {
          "output_type": "stream",
          "name": "stdout",
          "text": [
            "Cloning into 'gpHSP'...\n",
            "remote: Enumerating objects: 57, done.\u001b[K\n",
            "remote: Counting objects: 100% (19/19), done.\u001b[K\n",
            "remote: Compressing objects: 100% (14/14), done.\u001b[K\n",
            "remote: Total 57 (delta 7), reused 17 (delta 5), pack-reused 38\u001b[K\n",
            "Unpacking objects: 100% (57/57), done.\n"
          ]
        }
      ],
      "source": [
        "! rm -rf gpHSP\n",
        "!git clone https://github.com/aspuru-guzik-group/gpHSP"
      ]
    },
    {
      "cell_type": "markdown",
      "source": [
        "# Assuming in a colab enviroment"
      ],
      "metadata": {
        "id": "p54WoW6RkOdK"
      }
    },
    {
      "cell_type": "code",
      "source": [
        "import sys\n",
        "if 'google.colab' in sys.modules:\n",
        "    print('In colab!')\n",
        "    !pip install rdkit-pypi mordred ml_collections ngboost gpflow\n",
        "    sys.path.insert(0,'gpHSP')"
      ],
      "metadata": {
        "id": "qQyCA64AkN6w"
      },
      "execution_count": null,
      "outputs": []
    },
    {
      "cell_type": "code",
      "source": [
        "import pandas as pd\n",
        "import os\n",
        "import numpy as np\n",
        "import gphsp"
      ],
      "metadata": {
        "id": "9ebImi9uCOiK"
      },
      "execution_count": 20,
      "outputs": []
    },
    {
      "cell_type": "markdown",
      "source": [
        "## Utilities"
      ],
      "metadata": {
        "id": "HVDbXSZAliP3"
      }
    },
    {
      "cell_type": "code",
      "source": [
        "at_data_dir = lambda x: os.path.join('gpHSP/data', x)"
      ],
      "metadata": {
        "id": "wseewPpTCGHD"
      },
      "execution_count": 9,
      "outputs": []
    },
    {
      "cell_type": "markdown",
      "source": [
        "# Load data and get all smiles"
      ],
      "metadata": {
        "id": "_wvvTIsMldgt"
      }
    },
    {
      "cell_type": "code",
      "source": [
        "df = pd.read_csv(at_data_dir('Solvents_exp.csv'))\n",
        "df['smiles'] = df['smiles'].apply(gphsp.get_isomeric_smiles)\n",
        "all_smi = df['smiles'].tolist()\n",
        "y_cols = ['δd', 'δp', 'δh']\n",
        "gphsp.peek_df(df)"
      ],
      "metadata": {
        "colab": {
          "base_uri": "https://localhost:8080/",
          "height": 318
        },
        "id": "YYDEEwkVk9BW",
        "outputId": "cadd3f10-570d-490f-c799-726e7478c34e"
      },
      "execution_count": 14,
      "outputs": [
        {
          "output_type": "stream",
          "name": "stdout",
          "text": [
            "Index(['key', 'Type', 'δd', 'δp', 'δh', 'smiles', 'ID_type', 'ID', 'Ref',\n",
            "       'organic', 'n_electrons', 'n_atoms', 'charge', 'MolWt', 'label',\n",
            "       'finished', 'job_name', 'homo', 'lumo', 'gap', 'd-moments', 'dipole',\n",
            "       'polar', 'run_time', 'n_cores', 'compute_time', 'Area', 'Hba', 'Hbd',\n",
            "       'Volume', 'sigma_mom_0', 'sigma_mom_1', 'sigma_mom_2', 'sigma_mom_3',\n",
            "       'sigma_mom_4', 'sigma_mom_5', 'sigma_norm', 'sigma_profile', 'drug'],\n",
            "      dtype='object')\n",
            "(193, 39)\n"
          ]
        },
        {
          "output_type": "display_data",
          "data": {
            "text/html": [
              "\n",
              "  <div id=\"df-d808c6f8-d8ea-4642-afaf-e0965ced26c2\">\n",
              "    <div class=\"colab-df-container\">\n",
              "      <div>\n",
              "<style scoped>\n",
              "    .dataframe tbody tr th:only-of-type {\n",
              "        vertical-align: middle;\n",
              "    }\n",
              "\n",
              "    .dataframe tbody tr th {\n",
              "        vertical-align: top;\n",
              "    }\n",
              "\n",
              "    .dataframe thead th {\n",
              "        text-align: right;\n",
              "    }\n",
              "</style>\n",
              "<table border=\"1\" class=\"dataframe\">\n",
              "  <thead>\n",
              "    <tr style=\"text-align: right;\">\n",
              "      <th></th>\n",
              "      <th>key</th>\n",
              "      <th>Type</th>\n",
              "      <th>δd</th>\n",
              "      <th>δp</th>\n",
              "      <th>δh</th>\n",
              "      <th>smiles</th>\n",
              "      <th>ID_type</th>\n",
              "      <th>ID</th>\n",
              "      <th>Ref</th>\n",
              "      <th>organic</th>\n",
              "      <th>n_electrons</th>\n",
              "      <th>n_atoms</th>\n",
              "      <th>charge</th>\n",
              "      <th>MolWt</th>\n",
              "      <th>label</th>\n",
              "      <th>finished</th>\n",
              "      <th>job_name</th>\n",
              "      <th>homo</th>\n",
              "      <th>lumo</th>\n",
              "      <th>gap</th>\n",
              "      <th>d-moments</th>\n",
              "      <th>dipole</th>\n",
              "      <th>polar</th>\n",
              "      <th>run_time</th>\n",
              "      <th>n_cores</th>\n",
              "      <th>compute_time</th>\n",
              "      <th>Area</th>\n",
              "      <th>Hba</th>\n",
              "      <th>Hbd</th>\n",
              "      <th>Volume</th>\n",
              "      <th>sigma_mom_0</th>\n",
              "      <th>sigma_mom_1</th>\n",
              "      <th>sigma_mom_2</th>\n",
              "      <th>sigma_mom_3</th>\n",
              "      <th>sigma_mom_4</th>\n",
              "      <th>sigma_mom_5</th>\n",
              "      <th>sigma_norm</th>\n",
              "      <th>sigma_profile</th>\n",
              "      <th>drug</th>\n",
              "    </tr>\n",
              "  </thead>\n",
              "  <tbody>\n",
              "    <tr>\n",
              "      <th>0</th>\n",
              "      <td>1,1,1-Trichloroethane</td>\n",
              "      <td>Solvent</td>\n",
              "      <td>16.8</td>\n",
              "      <td>4.3</td>\n",
              "      <td>2.0</td>\n",
              "      <td>CC(Cl)(Cl)Cl</td>\n",
              "      <td>CAS</td>\n",
              "      <td>71-55-6</td>\n",
              "      <td>1</td>\n",
              "      <td>True</td>\n",
              "      <td>32</td>\n",
              "      <td>5</td>\n",
              "      <td>0</td>\n",
              "      <td>133.405</td>\n",
              "      <td>Exp-0</td>\n",
              "      <td>True</td>\n",
              "      <td>SOLSPE_Exp-0</td>\n",
              "      <td>-7.096702</td>\n",
              "      <td>-1.107639</td>\n",
              "      <td>5.989063</td>\n",
              "      <td>[-2.37335554 -0.11768285  0.07442233]</td>\n",
              "      <td>2.377437</td>\n",
              "      <td>64.37432</td>\n",
              "      <td>94.214</td>\n",
              "      <td>4</td>\n",
              "      <td>376.856</td>\n",
              "      <td>1.3258</td>\n",
              "      <td>0.0</td>\n",
              "      <td>0.0</td>\n",
              "      <td>0.1262</td>\n",
              "      <td>0</td>\n",
              "      <td>16.6</td>\n",
              "      <td>-3.835673</td>\n",
              "      <td>4.240154</td>\n",
              "      <td>-2.020584</td>\n",
              "      <td>1.539736</td>\n",
              "      <td>41.428082</td>\n",
              "      <td>[ 0.          0.          0.          0.      ...</td>\n",
              "      <td>False</td>\n",
              "    </tr>\n",
              "  </tbody>\n",
              "</table>\n",
              "</div>\n",
              "      <button class=\"colab-df-convert\" onclick=\"convertToInteractive('df-d808c6f8-d8ea-4642-afaf-e0965ced26c2')\"\n",
              "              title=\"Convert this dataframe to an interactive table.\"\n",
              "              style=\"display:none;\">\n",
              "        \n",
              "  <svg xmlns=\"http://www.w3.org/2000/svg\" height=\"24px\"viewBox=\"0 0 24 24\"\n",
              "       width=\"24px\">\n",
              "    <path d=\"M0 0h24v24H0V0z\" fill=\"none\"/>\n",
              "    <path d=\"M18.56 5.44l.94 2.06.94-2.06 2.06-.94-2.06-.94-.94-2.06-.94 2.06-2.06.94zm-11 1L8.5 8.5l.94-2.06 2.06-.94-2.06-.94L8.5 2.5l-.94 2.06-2.06.94zm10 10l.94 2.06.94-2.06 2.06-.94-2.06-.94-.94-2.06-.94 2.06-2.06.94z\"/><path d=\"M17.41 7.96l-1.37-1.37c-.4-.4-.92-.59-1.43-.59-.52 0-1.04.2-1.43.59L10.3 9.45l-7.72 7.72c-.78.78-.78 2.05 0 2.83L4 21.41c.39.39.9.59 1.41.59.51 0 1.02-.2 1.41-.59l7.78-7.78 2.81-2.81c.8-.78.8-2.07 0-2.86zM5.41 20L4 18.59l7.72-7.72 1.47 1.35L5.41 20z\"/>\n",
              "  </svg>\n",
              "      </button>\n",
              "      \n",
              "  <style>\n",
              "    .colab-df-container {\n",
              "      display:flex;\n",
              "      flex-wrap:wrap;\n",
              "      gap: 12px;\n",
              "    }\n",
              "\n",
              "    .colab-df-convert {\n",
              "      background-color: #E8F0FE;\n",
              "      border: none;\n",
              "      border-radius: 50%;\n",
              "      cursor: pointer;\n",
              "      display: none;\n",
              "      fill: #1967D2;\n",
              "      height: 32px;\n",
              "      padding: 0 0 0 0;\n",
              "      width: 32px;\n",
              "    }\n",
              "\n",
              "    .colab-df-convert:hover {\n",
              "      background-color: #E2EBFA;\n",
              "      box-shadow: 0px 1px 2px rgba(60, 64, 67, 0.3), 0px 1px 3px 1px rgba(60, 64, 67, 0.15);\n",
              "      fill: #174EA6;\n",
              "    }\n",
              "\n",
              "    [theme=dark] .colab-df-convert {\n",
              "      background-color: #3B4455;\n",
              "      fill: #D2E3FC;\n",
              "    }\n",
              "\n",
              "    [theme=dark] .colab-df-convert:hover {\n",
              "      background-color: #434B5C;\n",
              "      box-shadow: 0px 1px 3px 1px rgba(0, 0, 0, 0.15);\n",
              "      filter: drop-shadow(0px 1px 2px rgba(0, 0, 0, 0.3));\n",
              "      fill: #FFFFFF;\n",
              "    }\n",
              "  </style>\n",
              "\n",
              "      <script>\n",
              "        const buttonEl =\n",
              "          document.querySelector('#df-d808c6f8-d8ea-4642-afaf-e0965ced26c2 button.colab-df-convert');\n",
              "        buttonEl.style.display =\n",
              "          google.colab.kernel.accessAllowed ? 'block' : 'none';\n",
              "\n",
              "        async function convertToInteractive(key) {\n",
              "          const element = document.querySelector('#df-d808c6f8-d8ea-4642-afaf-e0965ced26c2');\n",
              "          const dataTable =\n",
              "            await google.colab.kernel.invokeFunction('convertToInteractive',\n",
              "                                                     [key], {});\n",
              "          if (!dataTable) return;\n",
              "\n",
              "          const docLinkHtml = 'Like what you see? Visit the ' +\n",
              "            '<a target=\"_blank\" href=https://colab.research.google.com/notebooks/data_table.ipynb>data table notebook</a>'\n",
              "            + ' to learn more about interactive tables.';\n",
              "          element.innerHTML = '';\n",
              "          dataTable['output_type'] = 'display_data';\n",
              "          await google.colab.output.renderOutput(dataTable, element);\n",
              "          const docLink = document.createElement('div');\n",
              "          docLink.innerHTML = docLinkHtml;\n",
              "          element.appendChild(docLink);\n",
              "        }\n",
              "      </script>\n",
              "    </div>\n",
              "  </div>\n",
              "  "
            ],
            "text/plain": [
              "                     key  ...   drug\n",
              "0  1,1,1-Trichloroethane  ...  False\n",
              "\n",
              "[1 rows x 39 columns]"
            ]
          },
          "metadata": {}
        }
      ]
    },
    {
      "cell_type": "code",
      "source": [
        "poly_df = pd.read_csv(at_data_dir('Polymers_exp.csv'))\n",
        "poly_df['smiles'] = poly_df['smiles'].apply(gphsp.get_isomeric_smiles)\n",
        "all_smi = all_smi + poly_df['smiles'].tolist()\n",
        "gphsp.peek_df(poly_df)"
      ],
      "metadata": {
        "colab": {
          "base_uri": "https://localhost:8080/",
          "height": 353
        },
        "id": "izpVJD2Ws1g_",
        "outputId": "69a6dc3b-5fb0-43e8-fe89-d4d6c7f6012a"
      },
      "execution_count": 16,
      "outputs": [
        {
          "output_type": "stream",
          "name": "stdout",
          "text": [
            "Index(['label', 'δd', 'δp', 'δh', 'smiles', 'test', 'poly_label', 'n_copies',\n",
            "       'organic', 'n_electrons', 'n_atoms', 'charge', 'MolWt', 'n_frags',\n",
            "       'largest', 'finished', 'job_name', 'poly_smiles', 'homo', 'lumo', 'gap',\n",
            "       'd-moments', 'dipole', 'polar', 'run_time', 'n_cores', 'compute_time',\n",
            "       'Area', 'Hba', 'Hbd', 'Volume', 'sigma_mom_0', 'sigma_mom_1',\n",
            "       'sigma_mom_2', 'sigma_mom_3', 'sigma_mom_4', 'sigma_mom_5',\n",
            "       'sigma_norm', 'sigma_profile'],\n",
            "      dtype='object')\n",
            "(31, 39)\n"
          ]
        },
        {
          "output_type": "display_data",
          "data": {
            "text/html": [
              "\n",
              "  <div id=\"df-6192b680-605a-4919-b8c4-520f987d8ce9\">\n",
              "    <div class=\"colab-df-container\">\n",
              "      <div>\n",
              "<style scoped>\n",
              "    .dataframe tbody tr th:only-of-type {\n",
              "        vertical-align: middle;\n",
              "    }\n",
              "\n",
              "    .dataframe tbody tr th {\n",
              "        vertical-align: top;\n",
              "    }\n",
              "\n",
              "    .dataframe thead th {\n",
              "        text-align: right;\n",
              "    }\n",
              "</style>\n",
              "<table border=\"1\" class=\"dataframe\">\n",
              "  <thead>\n",
              "    <tr style=\"text-align: right;\">\n",
              "      <th></th>\n",
              "      <th>label</th>\n",
              "      <th>δd</th>\n",
              "      <th>δp</th>\n",
              "      <th>δh</th>\n",
              "      <th>smiles</th>\n",
              "      <th>test</th>\n",
              "      <th>poly_label</th>\n",
              "      <th>n_copies</th>\n",
              "      <th>organic</th>\n",
              "      <th>n_electrons</th>\n",
              "      <th>n_atoms</th>\n",
              "      <th>charge</th>\n",
              "      <th>MolWt</th>\n",
              "      <th>n_frags</th>\n",
              "      <th>largest</th>\n",
              "      <th>finished</th>\n",
              "      <th>job_name</th>\n",
              "      <th>poly_smiles</th>\n",
              "      <th>homo</th>\n",
              "      <th>lumo</th>\n",
              "      <th>gap</th>\n",
              "      <th>d-moments</th>\n",
              "      <th>dipole</th>\n",
              "      <th>polar</th>\n",
              "      <th>run_time</th>\n",
              "      <th>n_cores</th>\n",
              "      <th>compute_time</th>\n",
              "      <th>Area</th>\n",
              "      <th>Hba</th>\n",
              "      <th>Hbd</th>\n",
              "      <th>Volume</th>\n",
              "      <th>sigma_mom_0</th>\n",
              "      <th>sigma_mom_1</th>\n",
              "      <th>sigma_mom_2</th>\n",
              "      <th>sigma_mom_3</th>\n",
              "      <th>sigma_mom_4</th>\n",
              "      <th>sigma_mom_5</th>\n",
              "      <th>sigma_norm</th>\n",
              "      <th>sigma_profile</th>\n",
              "    </tr>\n",
              "  </thead>\n",
              "  <tbody>\n",
              "    <tr>\n",
              "      <th>0</th>\n",
              "      <td>Polyacrylonitrile-n5</td>\n",
              "      <td>20.0</td>\n",
              "      <td>15.1</td>\n",
              "      <td>7.9</td>\n",
              "      <td>CCC#N</td>\n",
              "      <td>True</td>\n",
              "      <td>Polyacrylonitrile</td>\n",
              "      <td>5</td>\n",
              "      <td>True</td>\n",
              "      <td>110</td>\n",
              "      <td>45</td>\n",
              "      <td>0</td>\n",
              "      <td>275.4</td>\n",
              "      <td>1</td>\n",
              "      <td>True</td>\n",
              "      <td>True</td>\n",
              "      <td>SOLSPE2_Polyacrylonitrile-n5</td>\n",
              "      <td>[C@@H](C#N)(CCC#N)C[C@@H](C#N)C[C@H](C#N)CCC#N</td>\n",
              "      <td>-7.879002</td>\n",
              "      <td>-1.120048</td>\n",
              "      <td>6.758954</td>\n",
              "      <td>[ 0.58302575 -8.49403297 -1.86749721]</td>\n",
              "      <td>8.716425</td>\n",
              "      <td>211.62387</td>\n",
              "      <td>468.596</td>\n",
              "      <td>4</td>\n",
              "      <td>1874.384</td>\n",
              "      <td>3.047</td>\n",
              "      <td>1.5386</td>\n",
              "      <td>0.2196</td>\n",
              "      <td>0.3427</td>\n",
              "      <td>0</td>\n",
              "      <td>175.0</td>\n",
              "      <td>26.1</td>\n",
              "      <td>154.0</td>\n",
              "      <td>51.4</td>\n",
              "      <td>165.0</td>\n",
              "      <td>66.770346</td>\n",
              "      <td>[ 0.          0.          0.          0.      ...</td>\n",
              "    </tr>\n",
              "  </tbody>\n",
              "</table>\n",
              "</div>\n",
              "      <button class=\"colab-df-convert\" onclick=\"convertToInteractive('df-6192b680-605a-4919-b8c4-520f987d8ce9')\"\n",
              "              title=\"Convert this dataframe to an interactive table.\"\n",
              "              style=\"display:none;\">\n",
              "        \n",
              "  <svg xmlns=\"http://www.w3.org/2000/svg\" height=\"24px\"viewBox=\"0 0 24 24\"\n",
              "       width=\"24px\">\n",
              "    <path d=\"M0 0h24v24H0V0z\" fill=\"none\"/>\n",
              "    <path d=\"M18.56 5.44l.94 2.06.94-2.06 2.06-.94-2.06-.94-.94-2.06-.94 2.06-2.06.94zm-11 1L8.5 8.5l.94-2.06 2.06-.94-2.06-.94L8.5 2.5l-.94 2.06-2.06.94zm10 10l.94 2.06.94-2.06 2.06-.94-2.06-.94-.94-2.06-.94 2.06-2.06.94z\"/><path d=\"M17.41 7.96l-1.37-1.37c-.4-.4-.92-.59-1.43-.59-.52 0-1.04.2-1.43.59L10.3 9.45l-7.72 7.72c-.78.78-.78 2.05 0 2.83L4 21.41c.39.39.9.59 1.41.59.51 0 1.02-.2 1.41-.59l7.78-7.78 2.81-2.81c.8-.78.8-2.07 0-2.86zM5.41 20L4 18.59l7.72-7.72 1.47 1.35L5.41 20z\"/>\n",
              "  </svg>\n",
              "      </button>\n",
              "      \n",
              "  <style>\n",
              "    .colab-df-container {\n",
              "      display:flex;\n",
              "      flex-wrap:wrap;\n",
              "      gap: 12px;\n",
              "    }\n",
              "\n",
              "    .colab-df-convert {\n",
              "      background-color: #E8F0FE;\n",
              "      border: none;\n",
              "      border-radius: 50%;\n",
              "      cursor: pointer;\n",
              "      display: none;\n",
              "      fill: #1967D2;\n",
              "      height: 32px;\n",
              "      padding: 0 0 0 0;\n",
              "      width: 32px;\n",
              "    }\n",
              "\n",
              "    .colab-df-convert:hover {\n",
              "      background-color: #E2EBFA;\n",
              "      box-shadow: 0px 1px 2px rgba(60, 64, 67, 0.3), 0px 1px 3px 1px rgba(60, 64, 67, 0.15);\n",
              "      fill: #174EA6;\n",
              "    }\n",
              "\n",
              "    [theme=dark] .colab-df-convert {\n",
              "      background-color: #3B4455;\n",
              "      fill: #D2E3FC;\n",
              "    }\n",
              "\n",
              "    [theme=dark] .colab-df-convert:hover {\n",
              "      background-color: #434B5C;\n",
              "      box-shadow: 0px 1px 3px 1px rgba(0, 0, 0, 0.15);\n",
              "      filter: drop-shadow(0px 1px 2px rgba(0, 0, 0, 0.3));\n",
              "      fill: #FFFFFF;\n",
              "    }\n",
              "  </style>\n",
              "\n",
              "      <script>\n",
              "        const buttonEl =\n",
              "          document.querySelector('#df-6192b680-605a-4919-b8c4-520f987d8ce9 button.colab-df-convert');\n",
              "        buttonEl.style.display =\n",
              "          google.colab.kernel.accessAllowed ? 'block' : 'none';\n",
              "\n",
              "        async function convertToInteractive(key) {\n",
              "          const element = document.querySelector('#df-6192b680-605a-4919-b8c4-520f987d8ce9');\n",
              "          const dataTable =\n",
              "            await google.colab.kernel.invokeFunction('convertToInteractive',\n",
              "                                                     [key], {});\n",
              "          if (!dataTable) return;\n",
              "\n",
              "          const docLinkHtml = 'Like what you see? Visit the ' +\n",
              "            '<a target=\"_blank\" href=https://colab.research.google.com/notebooks/data_table.ipynb>data table notebook</a>'\n",
              "            + ' to learn more about interactive tables.';\n",
              "          element.innerHTML = '';\n",
              "          dataTable['output_type'] = 'display_data';\n",
              "          await google.colab.output.renderOutput(dataTable, element);\n",
              "          const docLink = document.createElement('div');\n",
              "          docLink.innerHTML = docLinkHtml;\n",
              "          element.appendChild(docLink);\n",
              "        }\n",
              "      </script>\n",
              "    </div>\n",
              "  </div>\n",
              "  "
            ],
            "text/plain": [
              "                  label  ...                                      sigma_profile\n",
              "0  Polyacrylonitrile-n5  ...  [ 0.          0.          0.          0.      ...\n",
              "\n",
              "[1 rows x 39 columns]"
            ]
          },
          "metadata": {}
        }
      ]
    },
    {
      "cell_type": "code",
      "source": [
        "new_df = pd.read_csv(at_data_dir('sample_molecules.csv'))\n",
        "new_df['smiles'] = new_df['smiles'].apply(gphsp.get_isomeric_smiles)\n",
        "all_smi = all_smi + new_df['smiles'].tolist()\n",
        "gphsp.peek_df(new_df)"
      ],
      "metadata": {
        "colab": {
          "base_uri": "https://localhost:8080/",
          "height": 115
        },
        "id": "YOTrQ4kfuQgW",
        "outputId": "47d92cc4-2238-4494-fc14-9642c24ad888"
      },
      "execution_count": 17,
      "outputs": [
        {
          "output_type": "stream",
          "name": "stdout",
          "text": [
            "Index(['names', 'smiles'], dtype='object')\n",
            "(11, 2)\n"
          ]
        },
        {
          "output_type": "display_data",
          "data": {
            "text/html": [
              "\n",
              "  <div id=\"df-92653946-52d2-4c98-befe-73cca47c3ebd\">\n",
              "    <div class=\"colab-df-container\">\n",
              "      <div>\n",
              "<style scoped>\n",
              "    .dataframe tbody tr th:only-of-type {\n",
              "        vertical-align: middle;\n",
              "    }\n",
              "\n",
              "    .dataframe tbody tr th {\n",
              "        vertical-align: top;\n",
              "    }\n",
              "\n",
              "    .dataframe thead th {\n",
              "        text-align: right;\n",
              "    }\n",
              "</style>\n",
              "<table border=\"1\" class=\"dataframe\">\n",
              "  <thead>\n",
              "    <tr style=\"text-align: right;\">\n",
              "      <th></th>\n",
              "      <th>names</th>\n",
              "      <th>smiles</th>\n",
              "    </tr>\n",
              "  </thead>\n",
              "  <tbody>\n",
              "    <tr>\n",
              "      <th>0</th>\n",
              "      <td>J52-Cl</td>\n",
              "      <td>CCCCCCCC[C@@H](CCCCCC)Cn1nc2c(-c3ccc(C)s3)c(F)...</td>\n",
              "    </tr>\n",
              "  </tbody>\n",
              "</table>\n",
              "</div>\n",
              "      <button class=\"colab-df-convert\" onclick=\"convertToInteractive('df-92653946-52d2-4c98-befe-73cca47c3ebd')\"\n",
              "              title=\"Convert this dataframe to an interactive table.\"\n",
              "              style=\"display:none;\">\n",
              "        \n",
              "  <svg xmlns=\"http://www.w3.org/2000/svg\" height=\"24px\"viewBox=\"0 0 24 24\"\n",
              "       width=\"24px\">\n",
              "    <path d=\"M0 0h24v24H0V0z\" fill=\"none\"/>\n",
              "    <path d=\"M18.56 5.44l.94 2.06.94-2.06 2.06-.94-2.06-.94-.94-2.06-.94 2.06-2.06.94zm-11 1L8.5 8.5l.94-2.06 2.06-.94-2.06-.94L8.5 2.5l-.94 2.06-2.06.94zm10 10l.94 2.06.94-2.06 2.06-.94-2.06-.94-.94-2.06-.94 2.06-2.06.94z\"/><path d=\"M17.41 7.96l-1.37-1.37c-.4-.4-.92-.59-1.43-.59-.52 0-1.04.2-1.43.59L10.3 9.45l-7.72 7.72c-.78.78-.78 2.05 0 2.83L4 21.41c.39.39.9.59 1.41.59.51 0 1.02-.2 1.41-.59l7.78-7.78 2.81-2.81c.8-.78.8-2.07 0-2.86zM5.41 20L4 18.59l7.72-7.72 1.47 1.35L5.41 20z\"/>\n",
              "  </svg>\n",
              "      </button>\n",
              "      \n",
              "  <style>\n",
              "    .colab-df-container {\n",
              "      display:flex;\n",
              "      flex-wrap:wrap;\n",
              "      gap: 12px;\n",
              "    }\n",
              "\n",
              "    .colab-df-convert {\n",
              "      background-color: #E8F0FE;\n",
              "      border: none;\n",
              "      border-radius: 50%;\n",
              "      cursor: pointer;\n",
              "      display: none;\n",
              "      fill: #1967D2;\n",
              "      height: 32px;\n",
              "      padding: 0 0 0 0;\n",
              "      width: 32px;\n",
              "    }\n",
              "\n",
              "    .colab-df-convert:hover {\n",
              "      background-color: #E2EBFA;\n",
              "      box-shadow: 0px 1px 2px rgba(60, 64, 67, 0.3), 0px 1px 3px 1px rgba(60, 64, 67, 0.15);\n",
              "      fill: #174EA6;\n",
              "    }\n",
              "\n",
              "    [theme=dark] .colab-df-convert {\n",
              "      background-color: #3B4455;\n",
              "      fill: #D2E3FC;\n",
              "    }\n",
              "\n",
              "    [theme=dark] .colab-df-convert:hover {\n",
              "      background-color: #434B5C;\n",
              "      box-shadow: 0px 1px 3px 1px rgba(0, 0, 0, 0.15);\n",
              "      filter: drop-shadow(0px 1px 2px rgba(0, 0, 0, 0.3));\n",
              "      fill: #FFFFFF;\n",
              "    }\n",
              "  </style>\n",
              "\n",
              "      <script>\n",
              "        const buttonEl =\n",
              "          document.querySelector('#df-92653946-52d2-4c98-befe-73cca47c3ebd button.colab-df-convert');\n",
              "        buttonEl.style.display =\n",
              "          google.colab.kernel.accessAllowed ? 'block' : 'none';\n",
              "\n",
              "        async function convertToInteractive(key) {\n",
              "          const element = document.querySelector('#df-92653946-52d2-4c98-befe-73cca47c3ebd');\n",
              "          const dataTable =\n",
              "            await google.colab.kernel.invokeFunction('convertToInteractive',\n",
              "                                                     [key], {});\n",
              "          if (!dataTable) return;\n",
              "\n",
              "          const docLinkHtml = 'Like what you see? Visit the ' +\n",
              "            '<a target=\"_blank\" href=https://colab.research.google.com/notebooks/data_table.ipynb>data table notebook</a>'\n",
              "            + ' to learn more about interactive tables.';\n",
              "          element.innerHTML = '';\n",
              "          dataTable['output_type'] = 'display_data';\n",
              "          await google.colab.output.renderOutput(dataTable, element);\n",
              "          const docLink = document.createElement('div');\n",
              "          docLink.innerHTML = docLinkHtml;\n",
              "          element.appendChild(docLink);\n",
              "        }\n",
              "      </script>\n",
              "    </div>\n",
              "  </div>\n",
              "  "
            ],
            "text/plain": [
              "    names                                             smiles\n",
              "0  J52-Cl  CCCCCCCC[C@@H](CCCCCC)Cn1nc2c(-c3ccc(C)s3)c(F)..."
            ]
          },
          "metadata": {}
        }
      ]
    },
    {
      "cell_type": "markdown",
      "source": [
        "Calculate a mordred values and a mask"
      ],
      "metadata": {
        "id": "w1s-j6DgtpgV"
      }
    },
    {
      "cell_type": "code",
      "source": [
        "all_smi = np.unique([gphsp.get_isomeric_smiles(s) for s in all_smi])\n",
        "all_values = gphsp.calculate_mordred(all_smi)\n",
        "mask = gphsp.calculate_mask(all_values)\n",
        "np.savez_compressed(at_data_dir('mordred_features.npz'),\n",
        "                    smiles = all_smi,\n",
        "                    values = all_values,\n",
        "                    mask = mask)\n",
        "features = gphsp.SmilesMap(at_data_dir('mordred_features.npz'))"
      ],
      "metadata": {
        "id": "jq0x70z9l-_G",
        "colab": {
          "base_uri": "https://localhost:8080/"
        },
        "outputId": "db542336-f9ee-4418-a3dc-9fb3968efbff"
      },
      "execution_count": 21,
      "outputs": [
        {
          "output_type": "stream",
          "name": "stderr",
          "text": [
            "  1%|          | 2/226 [00:02<05:54,  1.58s/it]"
          ]
        },
        {
          "output_type": "stream",
          "name": "stdout",
          "text": [
            "/usr/local/lib/python3.7/dist-packages/numpy/core/fromnumeric.py:87: RuntimeWarning: overflow encountered in reduce\n",
            "  return ufunc.reduce(obj, axis, dtype, out, **passkwargs)\n"
          ]
        },
        {
          "output_type": "stream",
          "name": "stderr",
          "text": [
            " 34%|███▎      | 76/226 [00:32<07:11,  2.88s/it]"
          ]
        },
        {
          "output_type": "stream",
          "name": "stdout",
          "text": [
            "/usr/local/lib/python3.7/dist-packages/numpy/core/fromnumeric.py:87: RuntimeWarning: overflow encountered in reduce\n",
            "  return ufunc.reduce(obj, axis, dtype, out, **passkwargs)\n"
          ]
        },
        {
          "output_type": "stream",
          "name": "stderr",
          "text": [
            "100%|██████████| 226/226 [01:32<00:00,  2.43it/s]\n"
          ]
        }
      ]
    }
  ]
}